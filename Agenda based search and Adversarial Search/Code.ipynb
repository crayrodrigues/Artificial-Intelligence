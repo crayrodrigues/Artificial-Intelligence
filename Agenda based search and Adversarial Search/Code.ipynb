{
 "cells": [
  {
   "cell_type": "markdown",
   "id": "f70cbe79-5265-46a9-b482-a0337c20a482",
   "metadata": {},
   "source": [
    "# 1. Load data. "
   ]
  },
  {
   "cell_type": "markdown",
   "id": "a5e32262-d229-4a53-ba3c-6cf014f684d4",
   "metadata": {},
   "source": [
    "Import data from the CSV file. Then a Graph class will be used to store and model the data with nodes and edges for future use. "
   ]
  },
  {
   "cell_type": "code",
   "execution_count": 349,
   "id": "161171ab-389f-4daf-9879-e5426f87c4d9",
   "metadata": {},
   "outputs": [],
   "source": [
    "import csv\n",
    "import networkx as nx\n",
    "\n",
    "\n",
    "tubeData =nx.Graph()\n",
    "\n",
    "#This function will load the data of the csv file and create a graph for modelling the data set\n",
    "def load():\n",
    "    with open(\"tubedata.csv\") as f:\n",
    "        \n",
    "        reader = csv.reader(f, skipinitialspace=True)\n",
    "        \n",
    "        #Data will be stored in the tubeData graph with 4 attributes: weight, tubeline, mainZone and secondaryZone. \n",
    "        for row in reader: \n",
    "            \n",
    "            tubeData.add_edge(row[0], row[1], weight=float(row[3]), tubeLine=row[2], mainZone=row[4], secondaryZone=row[5])\n",
    " "
   ]
  },
  {
   "cell_type": "code",
   "execution_count": 350,
   "id": "d16735fd-c497-4cc6-bc07-acc49bfd6492",
   "metadata": {},
   "outputs": [],
   "source": [
    "load()"
   ]
  },
  {
   "cell_type": "markdown",
   "id": "455227ee-3265-43c4-85bf-729f24d90423",
   "metadata": {},
   "source": [
    "# 2.Implementation of DFS, BFS and UCS. "
   ]
  },
  {
   "cell_type": "markdown",
   "id": "ade89b56-66e9-485e-b433-5d082a1dfd8b",
   "metadata": {},
   "source": [
    "Class Node will be used for representing the nodes for three agenda-based search mechanisims. \n",
    "<br>This calls will include the common features needed for the 3 algorithms:\n",
    " - State: represents the current station\n",
    " - Parent the node of the previous station\n",
    " - Time: the average time it takes to commute from one station to the other,\n",
    " - Tubeline: the line that connects both stations.\n"
   ]
  },
  {
   "cell_type": "code",
   "execution_count": 351,
   "id": "4c015dc9-0e91-4fe7-95d9-ac12a07e8e2f",
   "metadata": {},
   "outputs": [],
   "source": [
    "class Node(): \n",
    "    def __init__(self, state, parent, time, tubeLine):        \n",
    "        self.state=state\n",
    "        self.parent=parent\n",
    "        self.time=time\n",
    "        self.tubeLine = tubeLine"
   ]
  },
  {
   "cell_type": "markdown",
   "id": "8c742399-076f-4f4a-832d-3823dad3777e",
   "metadata": {},
   "source": [
    "## 2.1 DFS"
   ]
  },
  {
   "cell_type": "markdown",
   "id": "da017636-51ad-4711-b1bd-b42a3b927c8f",
   "metadata": {},
   "source": [
    "The following class defines how the nodes must be expanded in the DFS algorithm. \n",
    "<br> Since DFS follows a Stack data structure, nodes will be added at the end of the frontier and they will be the first ones to explore. "
   ]
  },
  {
   "cell_type": "code",
   "execution_count": 352,
   "id": "b85c13ed-84cc-4886-8747-876247ef08b6",
   "metadata": {},
   "outputs": [],
   "source": [
    "class DFS(): \n",
    "    #Initialization function. \n",
    "    def __init__(self):\n",
    "        self.frontier =[]\n",
    "        \n",
    "    #Add node to the frontier. \n",
    "    def addNode(self, node):\n",
    "        self.frontier.append(node)\n",
    "        \n",
    "    #Check if the frontier is empty.     \n",
    "    def isEmpty(self):\n",
    "        return len(self.frontier)==0\n",
    "    \n",
    "    #If the frontier is not empty, a node at the end of the frontier is removed. \n",
    "    def removeNode(self): \n",
    "        if self.isEmpty(): \n",
    "            raise Exception (\"The frontier is empty\")\n",
    "        else: \n",
    "            node=self.frontier[-1]\n",
    "            self.frontier=self.frontier[:-1]\n",
    "            return node\n",
    "   "
   ]
  },
  {
   "cell_type": "markdown",
   "id": "43b87e3e-33a7-417b-87bf-7d94464bcced",
   "metadata": {},
   "source": [
    "## 2.2 BFS"
   ]
  },
  {
   "cell_type": "markdown",
   "id": "a3fc8f7c-2222-450e-9b77-2fb8c1c25a82",
   "metadata": {},
   "source": [
    "The following class defines how the nodes must be expanded in the BFS algorithm. \n",
    "<br> Since BFS follows a Queue data structure, nodes will be added at the end of the frontier, while the nodes at the start of the frontier will be the first ones to be explored. "
   ]
  },
  {
   "cell_type": "code",
   "execution_count": 353,
   "id": "a8362bb4-9bfb-4566-ac98-e997470ad6cf",
   "metadata": {},
   "outputs": [],
   "source": [
    "class BFS(DFS):\n",
    "    #If the frontier is not empty, a node at the start of the frontier is removed\n",
    "    def removeNode(self): \n",
    "        if self.isEmpty(): \n",
    "            raise Exception (\"The frontier is empty\")\n",
    "        else: \n",
    "                        \n",
    "            node=self.frontier[0]\n",
    "            self.frontier=self.frontier[1:]\n",
    "            return node\n",
    "        \n",
    "        "
   ]
  },
  {
   "cell_type": "markdown",
   "id": "c62ededb-66ec-41f1-8977-28c77b4919ae",
   "metadata": {},
   "source": [
    "## 2.3 UCS"
   ]
  },
  {
   "cell_type": "markdown",
   "id": "95f22357-03c5-46d8-951b-6a3d974943ce",
   "metadata": {},
   "source": [
    "The following class defines how the nodes must be expanded in the UCS algorithm.\n",
    "<br>UCS is similar to  BFS. However, the nodes that will be explored, and therefore removed from the frontier, will depend on the cost function. \n",
    "<br> The cost function is defined as the sum of the average time taken from the initial station to the current node. \n",
    "<br> The nodes will lower cost function will be expored first. Consequently, after adding a node in the frontier, the array will be sorted according to the cost of each node. "
   ]
  },
  {
   "cell_type": "code",
   "execution_count": 354,
   "id": "30be3bdb-1dab-4723-af75-9f82d9076fbf",
   "metadata": {},
   "outputs": [],
   "source": [
    "class UCS(BFS):\n",
    "\n",
    "    def __init__(self):\n",
    "        self.frontier=[]\n",
    "        #Stores as a tuple the nodes that have been added to the frontier and its corresponding commutation time. \n",
    "        self.uscFrontier= []\n",
    "        \n",
    "    def addNode(self,node): \n",
    "        #If it is the starting node, it will be added to the frontier and the usc will set the commutation time to 0.        \n",
    "        if node.time == None: \n",
    "            self.frontier.append(node)\n",
    "            self.uscFrontier.append([node, 0])\n",
    "        else:\n",
    "            self.frontier.append(node)\n",
    "            \n",
    "            weight =0 \n",
    "            child = node \n",
    "            \n",
    "            #Calculate the time taken from the initial node to the current node. \n",
    "            while child.time is not None: \n",
    "                weight = child.time + weight\n",
    "                child = child.parent\n",
    "            \n",
    "            \n",
    "            \n",
    "            self.uscFrontier.append([node, weight])\n",
    "            \n",
    "            #Sort the nodes in the frontier according to the commutation time that has been saved in the uscFrontier array. \n",
    "            newFrontier= sorted(self.uscFrontier, key=lambda x:x[1], reverse=False)\n",
    "            \n",
    "            newFrontier2 = []\n",
    "            for x in newFrontier:\n",
    "                if x[0] in self.frontier:\n",
    "                    newFrontier2.append(x[0])\n",
    "                    \n",
    "            self.frontier=[]\n",
    "            self.frontier=newFrontier2\n",
    "           \n",
    "            "
   ]
  },
  {
   "cell_type": "markdown",
   "id": "b7775ae7-6bd0-4963-b7ef-dd7fd124c8e0",
   "metadata": {},
   "source": [
    "## 2.4 Finding the path function. "
   ]
  },
  {
   "cell_type": "markdown",
   "id": "2b648e69-29b1-4d10-a126-36be25bf88dd",
   "metadata": {},
   "source": [
    "The following function backtracks from the current node (goal) to the start station. It will return the path that must be followed and the time that it takes to go from start to the destination. "
   ]
  },
  {
   "cell_type": "code",
   "execution_count": 355,
   "id": "1579392e-ad00-4baa-8bde-af89a24d0091",
   "metadata": {},
   "outputs": [],
   "source": [
    "def routeToDestination(currentNode):\n",
    "    route = []\n",
    "    timeTaken=0\n",
    "    node=currentNode\n",
    "    #When the node does not have a parent means its the starting station\n",
    "    while node.parent is not None: \n",
    "        route.append(node.state)\n",
    "        timeTaken += (node.time)\n",
    "        node = node.parent\n",
    "\n",
    "    route.append(node.state)\n",
    "    route.reverse()\n",
    "    return route, timeTaken"
   ]
  },
  {
   "cell_type": "markdown",
   "id": "50b4a104-4bbc-4ec7-ae4c-a801e5323a75",
   "metadata": {},
   "source": [
    "The following function will find the path that each algorithm will return. "
   ]
  },
  {
   "cell_type": "code",
   "execution_count": 356,
   "id": "023336a1-8549-4fee-b22b-06d50da0e9d3",
   "metadata": {},
   "outputs": [],
   "source": [
    "def findPath(nxData, start, end, algorithm ):\n",
    "    startNode = Node(state=start, parent=None, time=None, tubeLine=None)\n",
    "    \n",
    "    #The frontier will be initialised depending on the algorithm we want to implement.\n",
    "    if algorithm ==\"DFS\":\n",
    "        frontier=DFS()\n",
    "    elif algorithm == \"BFS\":\n",
    "        frontier = BFS()\n",
    "    elif algorithm == \"UCS\":\n",
    "        frontier = UCS()\n",
    "\n",
    "    #the node will be added to the frontier and to the explored set.     \n",
    "    frontier.addNode(startNode)\n",
    "    \n",
    "    explored=set()\n",
    "    explored.add(start)\n",
    "    num_explored =1     \n",
    "    \n",
    "    #while a path has not been found and the frontier is not empty, the function will look for the best route. \n",
    "    while True: \n",
    "        if frontier.isEmpty(): \n",
    "            return None, None\n",
    "        else:\n",
    "            currentNode= frontier.removeNode()\n",
    "            num_explored +=1\n",
    "            \n",
    "            #If destinations has been reached, return the path and the time it takes to reach. \n",
    "            if currentNode.state == end:\n",
    "                route, timeTaken = routeToDestination(currentNode)\n",
    "                return route, timeTaken, num_explored\n",
    "            \n",
    "            #if the removed node does not correspond to the goal station, we will look for the next stations we can go through. \n",
    "            neighbours =nxData.neighbors(currentNode.state)\n",
    "            #For each estation, a child node is created and added to the frontier for further exploration, \n",
    "            for neighbour in neighbours:\n",
    "                stationTime =nxData[currentNode.state][neighbour][\"weight\"]\n",
    "                tube =nxData[currentNode.state][neighbour][\"tubeLine\"]\n",
    "                \n",
    "                \n",
    "                child = Node(state=neighbour, parent=currentNode, time=stationTime, tubeLine = tube)\n",
    "\n",
    "                if neighbour not in explored:                                      \n",
    "                    frontier.addNode(child)\n",
    "                    explored.add(child.state)\n",
    "                            \n",
    "    \n"
   ]
  },
  {
   "cell_type": "markdown",
   "id": "d02192e3-f44c-4dfa-bf05-1c0c6e1c2cdf",
   "metadata": {},
   "source": [
    "## 2.5 Experimental results."
   ]
  },
  {
   "cell_type": "markdown",
   "id": "7895b997-f492-41e3-b736-b45a95fe715a",
   "metadata": {},
   "source": [
    "Experimental results for route from Euston to Victoria"
   ]
  },
  {
   "cell_type": "code",
   "execution_count": 357,
   "id": "372da652-15ab-4faa-bdc6-1834cddc988e",
   "metadata": {},
   "outputs": [
    {
     "name": "stdout",
     "output_type": "stream",
     "text": [
      "DFS algorithm outputs the following path:\n",
      "['Euston', \"King's Cross St. Pancras\", 'Russell Square', 'Holborn', 'Covent Garden', 'Leicester Square', 'Piccadilly Circus', 'Green Park', 'Victoria']\u001b[1m\n",
      "The time taken to reach destination is: 13.0. And 26 nodes have been exploded \n",
      "\u001b[0m\n",
      "BFS algorithm outputs the following path:\n",
      "['Euston', 'Warren Street', 'Oxford Circus', 'Green Park', 'Victoria']\u001b[1m\n",
      "The time taken to reach destination is: 7.0. And 36 nodes have been exploded \n",
      "\u001b[0m\n",
      "UCS algorithm outputs the following path:\n",
      "['Euston', 'Warren Street', 'Oxford Circus', 'Green Park', 'Victoria']\u001b[1m\n",
      "The time taken to reach destination is: 7.0. And 31 nodes have been exploded \n",
      "\u001b[0m\n"
     ]
    }
   ],
   "source": [
    "#DFS\n",
    "path, timing, num_explored = findPath(tubeData, \"Euston\", \"Victoria\", \"DFS\")\n",
    "print(\"DFS algorithm outputs the following path:\\n\" + str(path) + '\\033[1m'\"\\nThe time taken to reach destination is: \"+str(timing)+\". And \"+str(num_explored) + \" nodes have been exploded \\n\"'\\033[0m')\n",
    "\n",
    "#BFS\n",
    "path, timing ,num_explored= findPath(tubeData, \"Euston\", \"Victoria\", \"BFS\")\n",
    "print(\"BFS algorithm outputs the following path:\\n\" + str(path) + '\\033[1m'\"\\nThe time taken to reach destination is: \"+str(timing)+\". And \"+str(num_explored) + \" nodes have been exploded \\n\"'\\033[0m')\n",
    "\n",
    "#UCS\n",
    "path, timing , num_explored= findPath(tubeData, \"Euston\", \"Victoria\", \"UCS\")\n",
    "print(\"UCS algorithm outputs the following path:\\n\" + str(path) + '\\033[1m'\"\\nThe time taken to reach destination is: \"+str(timing)+\". And \"+str(num_explored) + \" nodes have been exploded \\n\"'\\033[0m')"
   ]
  },
  {
   "cell_type": "markdown",
   "id": "56da0acf-c102-4595-826d-326da9f02d12",
   "metadata": {},
   "source": [
    "Experimental results for route from Canada Water to Stratford"
   ]
  },
  {
   "cell_type": "code",
   "execution_count": 358,
   "id": "121b5590-d316-48ef-99d2-8d6d3ac0fc19",
   "metadata": {},
   "outputs": [
    {
     "name": "stdout",
     "output_type": "stream",
     "text": [
      "DFS algorithm outputs the following path:\n",
      "['Canada Water', 'Canary Wharf', 'North Greenwich', 'Canning Town', 'West Ham', 'Stratford']\u001b[1m\n",
      "The time taken to reach destination is: 15.0. And 7 nodes have been exploded \n",
      "\u001b[0m\n",
      "BFS algorithm outputs the following path:\n",
      "['Canada Water', 'Canary Wharf', 'North Greenwich', 'Canning Town', 'West Ham', 'Stratford']\u001b[1m\n",
      "The time taken to reach destination is: 15.0. And 41 nodes have been exploded \n",
      "\u001b[0m\n",
      "UCS algorithm outputs the following path:\n",
      "['Canada Water', 'Rotherhithe', 'Wapping', 'Shadwell', 'Whitechapel', 'Stepney Green', 'Mile End', 'Stratford']\u001b[1m\n",
      "The time taken to reach destination is: 14.0. And 53 nodes have been exploded \n",
      "\u001b[0m\n"
     ]
    }
   ],
   "source": [
    "#DFS\n",
    "path, timing, num_explored = findPath(tubeData, \"Canada Water\", \"Stratford\", \"DFS\")\n",
    "print(\"DFS algorithm outputs the following path:\\n\" + str(path) + '\\033[1m'\"\\nThe time taken to reach destination is: \"+str(timing)+\". And \"+str(num_explored) + \" nodes have been exploded \\n\"'\\033[0m')\n",
    "\n",
    "#BFS\n",
    "path, timing ,num_explored= findPath(tubeData, \"Canada Water\", \"Stratford\", \"BFS\")\n",
    "print(\"BFS algorithm outputs the following path:\\n\" + str(path) + '\\033[1m'\"\\nThe time taken to reach destination is: \"+str(timing)+\". And \"+str(num_explored) + \" nodes have been exploded \\n\"'\\033[0m')\n",
    "\n",
    "#UCS\n",
    "path, timing , num_explored= findPath(tubeData, \"Canada Water\", \"Stratford\", \"UCS\")\n",
    "print(\"UCS algorithm outputs the following path:\\n\" + str(path) + '\\033[1m'\"\\nThe time taken to reach destination is: \"+str(timing)+\". And \"+str(num_explored) + \" nodes have been exploded \\n\"'\\033[0m')"
   ]
  },
  {
   "cell_type": "markdown",
   "id": "f52090d5-5261-4f3a-8038-be06cc51b05b",
   "metadata": {},
   "source": [
    "Experimental results for route from New Cross Gate to Stepney Green"
   ]
  },
  {
   "cell_type": "code",
   "execution_count": 359,
   "id": "090ddf37-a105-4099-b113-d5d19086eafe",
   "metadata": {},
   "outputs": [
    {
     "name": "stdout",
     "output_type": "stream",
     "text": [
      "DFS algorithm outputs the following path:\n",
      "['New Cross Gate', 'Surrey Quays', 'Canada Water', 'Canary Wharf', 'North Greenwich', 'Canning Town', 'West Ham', 'Stratford', 'Mile End', 'Stepney Green']\u001b[1m\n",
      "The time taken to reach destination is: 27.0. And 33 nodes have been exploded \n",
      "\u001b[0m\n",
      "BFS algorithm outputs the following path:\n",
      "['New Cross Gate', 'Surrey Quays', 'Canada Water', 'Rotherhithe', 'Wapping', 'Shadwell', 'Whitechapel', 'Stepney Green']\u001b[1m\n",
      "The time taken to reach destination is: 14.0. And 27 nodes have been exploded \n",
      "\u001b[0m\n",
      "UCS algorithm outputs the following path:\n",
      "['New Cross Gate', 'Surrey Quays', 'Canada Water', 'Rotherhithe', 'Wapping', 'Shadwell', 'Whitechapel', 'Stepney Green']\u001b[1m\n",
      "The time taken to reach destination is: 14.0. And 19 nodes have been exploded \n",
      "\u001b[0m\n"
     ]
    }
   ],
   "source": [
    "#DFS\n",
    "path, timing, num_explored = findPath(tubeData, \"New Cross Gate\", \"Stepney Green\", \"DFS\")\n",
    "print(\"DFS algorithm outputs the following path:\\n\" + str(path) + '\\033[1m'\"\\nThe time taken to reach destination is: \"+str(timing)+\". And \"+str(num_explored) + \" nodes have been exploded \\n\"'\\033[0m')\n",
    "\n",
    "#BFS\n",
    "path, timing ,num_explored= findPath(tubeData, \"New Cross Gate\", \"Stepney Green\", \"BFS\")\n",
    "print(\"BFS algorithm outputs the following path:\\n\" + str(path) + '\\033[1m'\"\\nThe time taken to reach destination is: \"+str(timing)+\". And \"+str(num_explored) + \" nodes have been exploded \\n\"'\\033[0m')\n",
    "\n",
    "#UCS\n",
    "path, timing , num_explored= findPath(tubeData, \"New Cross Gate\", \"Stepney Green\", \"UCS\")\n",
    "print(\"UCS algorithm outputs the following path:\\n\" + str(path) + '\\033[1m'\"\\nThe time taken to reach destination is: \"+str(timing)+\". And \"+str(num_explored) + \" nodes have been exploded \\n\"'\\033[0m')\n"
   ]
  },
  {
   "cell_type": "markdown",
   "id": "e6f4c913-8eb6-48fb-b2df-92a4859064aa",
   "metadata": {},
   "source": [
    "Experimental results for route from Ealing Broadway to South Kensington"
   ]
  },
  {
   "cell_type": "code",
   "execution_count": 360,
   "id": "af3503d7-97d1-4350-b6b8-10546a098ed8",
   "metadata": {},
   "outputs": [
    {
     "name": "stdout",
     "output_type": "stream",
     "text": [
      "DFS algorithm outputs the following path:\n",
      "['Ealing Broadway', 'Ealing Common', 'North Ealing', 'Park Royal', 'Alperton', 'Sudbury Town', 'Sudbury Hill', 'South Harrow', 'Rayners Lane', 'West Harrow', 'Harrow-on-the-Hill', 'Northwick Park', 'Preston Road', 'Wembley Park', 'Finchley Road', 'Baker Street', 'Bond Street', 'Green Park', 'Victoria', 'Sloane Square', 'South Kensington']\u001b[1m\n",
      "The time taken to reach destination is: 57.0. And 180 nodes have been exploded \n",
      "\u001b[0m\n",
      "BFS algorithm outputs the following path:\n",
      "['Ealing Broadway', 'Ealing Common', 'Acton Town', 'Turnham Green', 'Hammersmith', 'Barons Court', \"Earls' Court\", 'Gloucester Road', 'South Kensington']\u001b[1m\n",
      "The time taken to reach destination is: 20.0. And 51 nodes have been exploded \n",
      "\u001b[0m\n",
      "UCS algorithm outputs the following path:\n",
      "['Ealing Broadway', 'Ealing Common', 'Acton Town', 'Turnham Green', 'Hammersmith', 'Barons Court', \"Earls' Court\", 'Gloucester Road', 'South Kensington']\u001b[1m\n",
      "The time taken to reach destination is: 20.0. And 54 nodes have been exploded \n",
      "\u001b[0m\n"
     ]
    }
   ],
   "source": [
    "#DFS\n",
    "path, timing, num_explored = findPath(tubeData, \"Ealing Broadway\", \"South Kensington\", \"DFS\")\n",
    "print(\"DFS algorithm outputs the following path:\\n\" + str(path) + '\\033[1m'\"\\nThe time taken to reach destination is: \"+str(timing)+\". And \"+str(num_explored) + \" nodes have been exploded \\n\"'\\033[0m')\n",
    "\n",
    "#BFS\n",
    "path, timing ,num_explored= findPath(tubeData, \"Ealing Broadway\", \"South Kensington\", \"BFS\")\n",
    "print(\"BFS algorithm outputs the following path:\\n\" + str(path) + '\\033[1m'\"\\nThe time taken to reach destination is: \"+str(timing)+\". And \"+str(num_explored) + \" nodes have been exploded \\n\"'\\033[0m')\n",
    "\n",
    "#UCS\n",
    "path, timing , num_explored= findPath(tubeData, \"Ealing Broadway\", \"South Kensington\", \"UCS\")\n",
    "print(\"UCS algorithm outputs the following path:\\n\" + str(path) + '\\033[1m'\"\\nThe time taken to reach destination is: \"+str(timing)+\". And \"+str(num_explored) + \" nodes have been exploded \\n\"'\\033[0m')"
   ]
  },
  {
   "cell_type": "markdown",
   "id": "a5a1bed3-c804-4a3f-9545-4d0f7690321d",
   "metadata": {},
   "source": [
    "Experimental results for route from Baker Street to Wembley Park"
   ]
  },
  {
   "cell_type": "code",
   "execution_count": 361,
   "id": "0b02dbf4-3c98-43fd-98df-e5492009053d",
   "metadata": {},
   "outputs": [
    {
     "name": "stdout",
     "output_type": "stream",
     "text": [
      "DFS algorithm outputs the following path:\n",
      "['Baker Street', 'Finchley Road', 'Wembley Park']\u001b[1m\n",
      "The time taken to reach destination is: 13.0. And 4 nodes have been exploded \n",
      "\u001b[0m\n",
      "BFS algorithm outputs the following path:\n",
      "['Baker Street', 'Finchley Road', 'Wembley Park']\u001b[1m\n",
      "The time taken to reach destination is: 13.0. And 17 nodes have been exploded \n",
      "\u001b[0m\n",
      "UCS algorithm outputs the following path:\n",
      "['Baker Street', 'Finchley Road', 'Wembley Park']\u001b[1m\n",
      "The time taken to reach destination is: 13.0. And 71 nodes have been exploded \n",
      "\u001b[0m\n"
     ]
    }
   ],
   "source": [
    "#DFS\n",
    "path, timing, num_explored = findPath(tubeData, \"Baker Street\", \"Wembley Park\", \"DFS\")\n",
    "print(\"DFS algorithm outputs the following path:\\n\" + str(path) + '\\033[1m'\"\\nThe time taken to reach destination is: \"+str(timing)+\". And \"+str(num_explored) + \" nodes have been exploded \\n\"'\\033[0m')\n",
    "\n",
    "#BFS\n",
    "path, timing ,num_explored= findPath(tubeData, \"Baker Street\", \"Wembley Park\", \"BFS\")\n",
    "print(\"BFS algorithm outputs the following path:\\n\" + str(path) + '\\033[1m'\"\\nThe time taken to reach destination is: \"+str(timing)+\". And \"+str(num_explored) + \" nodes have been exploded \\n\"'\\033[0m')\n",
    "\n",
    "#UCS\n",
    "path, timing , num_explored= findPath(tubeData, \"Baker Street\", \"Wembley Park\", \"UCS\")\n",
    "print(\"UCS algorithm outputs the following path:\\n\" + str(path) + '\\033[1m'\"\\nThe time taken to reach destination is: \"+str(timing)+\". And \"+str(num_explored) + \" nodes have been exploded \\n\"'\\033[0m')"
   ]
  },
  {
   "cell_type": "markdown",
   "id": "53d940dd-b644-4f80-bf22-8baab8b83a5f",
   "metadata": {},
   "source": [
    "Experimental results for route from Epping to Wanstead"
   ]
  },
  {
   "cell_type": "code",
   "execution_count": 362,
   "id": "e275a4f9-6a64-4e22-9b35-0466b1f9b636",
   "metadata": {},
   "outputs": [
    {
     "name": "stdout",
     "output_type": "stream",
     "text": [
      "DFS algorithm outputs the following path:\n",
      "['Epping', 'Theydon Bois', 'Debden', 'Loughton', 'Buckhurst Hill', 'Woodford', 'South Woodford', 'Snaresbrook', 'Leytonstone', 'Wanstead']\u001b[1m\n",
      "The time taken to reach destination is: 20.0. And 11 nodes have been exploded \n",
      "\u001b[0m\n",
      "BFS algorithm outputs the following path:\n",
      "['Epping', 'Theydon Bois', 'Debden', 'Loughton', 'Buckhurst Hill', 'Woodford', 'South Woodford', 'Snaresbrook', 'Leytonstone', 'Wanstead']\u001b[1m\n",
      "The time taken to reach destination is: 20.0. And 16 nodes have been exploded \n",
      "\u001b[0m\n",
      "UCS algorithm outputs the following path:\n",
      "['Epping', 'Theydon Bois', 'Debden', 'Loughton', 'Buckhurst Hill', 'Woodford', 'South Woodford', 'Snaresbrook', 'Leytonstone', 'Wanstead']\u001b[1m\n",
      "The time taken to reach destination is: 20.0. And 14 nodes have been exploded \n",
      "\u001b[0m\n"
     ]
    }
   ],
   "source": [
    "#DFS\n",
    "path, timing, num_explored = findPath(tubeData, \"Epping\", \"Wanstead\", \"DFS\")\n",
    "print(\"DFS algorithm outputs the following path:\\n\" + str(path) + '\\033[1m'\"\\nThe time taken to reach destination is: \"+str(timing)+\". And \"+str(num_explored) + \" nodes have been exploded \\n\"'\\033[0m')\n",
    "\n",
    "#BFS\n",
    "path, timing ,num_explored= findPath(tubeData, \"Epping\", \"Wanstead\", \"BFS\")\n",
    "print(\"BFS algorithm outputs the following path:\\n\" + str(path) + '\\033[1m'\"\\nThe time taken to reach destination is: \"+str(timing)+\". And \"+str(num_explored) + \" nodes have been exploded \\n\"'\\033[0m')\n",
    "\n",
    "#UCS\n",
    "path, timing , num_explored= findPath(tubeData, \"Epping\", \"Wanstead\", \"UCS\")\n",
    "print(\"UCS algorithm outputs the following path:\\n\" + str(path) + '\\033[1m'\"\\nThe time taken to reach destination is: \"+str(timing)+\". And \"+str(num_explored) + \" nodes have been exploded \\n\"'\\033[0m')"
   ]
  },
  {
   "cell_type": "markdown",
   "id": "d37f4687-cbac-4f83-80ab-e439b22695a8",
   "metadata": {},
   "source": [
    "Experimental results for route from Epping to Wanstead"
   ]
  },
  {
   "cell_type": "code",
   "execution_count": 363,
   "id": "fb632060-79e3-4a44-8ae8-7f2bc8ed6e77",
   "metadata": {},
   "outputs": [
    {
     "name": "stdout",
     "output_type": "stream",
     "text": [
      "DFS algorithm outputs the following path:\n",
      "['Westminster', 'Waterloo', 'Bank/Monument', 'Moorgate', 'Old Street', 'Angel', \"King's Cross St. Pancras\", 'Russell Square', 'Holborn', 'Covent Garden', 'Leicester Square', 'Piccadilly Circus']\u001b[1m\n",
      "The time taken to reach destination is: 23.0. And 85 nodes have been exploded \n",
      "\u001b[0m\n",
      "BFS algorithm outputs the following path:\n",
      "['Westminster', 'Green Park', 'Piccadilly Circus']\u001b[1m\n",
      "The time taken to reach destination is: 4.0. And 11 nodes have been exploded \n",
      "\u001b[0m\n",
      "UCS algorithm outputs the following path:\n",
      "['Westminster', 'Green Park', 'Piccadilly Circus']\u001b[1m\n",
      "The time taken to reach destination is: 4.0. And 12 nodes have been exploded \n",
      "\u001b[0m\n"
     ]
    }
   ],
   "source": [
    "#DFS\n",
    "path, timing, num_explored = findPath(tubeData, \"Westminster\", \"Piccadilly Circus\", \"DFS\")\n",
    "print(\"DFS algorithm outputs the following path:\\n\" + str(path) + '\\033[1m'\"\\nThe time taken to reach destination is: \"+str(timing)+\". And \"+str(num_explored) + \" nodes have been exploded \\n\"'\\033[0m')\n",
    "\n",
    "#BFS\n",
    "path, timing ,num_explored= findPath(tubeData, \"Westminster\", \"Piccadilly Circus\", \"BFS\")\n",
    "print(\"BFS algorithm outputs the following path:\\n\" + str(path) + '\\033[1m'\"\\nThe time taken to reach destination is: \"+str(timing)+\". And \"+str(num_explored) + \" nodes have been exploded \\n\"'\\033[0m')\n",
    "\n",
    "#UCS\n",
    "path, timing , num_explored= findPath(tubeData, \"Westminster\", \"Piccadilly Circus\", \"UCS\")\n",
    "print(\"UCS algorithm outputs the following path:\\n\" + str(path) + '\\033[1m'\"\\nThe time taken to reach destination is: \"+str(timing)+\". And \"+str(num_explored) + \" nodes have been exploded \\n\"'\\033[0m')"
   ]
  },
  {
   "cell_type": "markdown",
   "id": "558c8010-38aa-4b37-b57e-5c3a94768ca5",
   "metadata": {},
   "source": [
    "# 3. Extending Cost function."
   ]
  },
  {
   "cell_type": "markdown",
   "id": "2c7dca29-b607-4936-b5fd-05506a34c4a8",
   "metadata": {},
   "source": [
    "The new cos function will be similar to the one implemented in UCS. However, it will add a penalisation if the tube line must be changed. The weight of this penalisation will depend on the size of the station. \n",
    "The bigger the station, higher will be the time taken to walk from one platform to another. \n",
    "<br> The act of changing from one platform to another is considered to take 2 minutes. An additional minute will be added as the number of platforms increases. However, if the station has more than 5 platforms, 30 seconds \n",
    "will be added per platform "
   ]
  },
  {
   "cell_type": "code",
   "execution_count": 381,
   "id": "2afaa51d-5250-4a27-8932-d92060b3c41e",
   "metadata": {},
   "outputs": [],
   "source": [
    "class UCS_im(BFS):\n",
    "\n",
    "    def __init__(self):\n",
    "        self.frontier=[]\n",
    "        #Stores as a tuple the nodes that have been added to the frontier and its corresponding commutation time including the penalisation for changing tube line.\n",
    "        self.uscFrontier= []\n",
    "        \n",
    "    def addNode(self,node, platforms): \n",
    "        #If it is the starting node, it will be added to the frontier and the usc will set the commutation time to 0.          \n",
    "        if node.time == None: \n",
    "            self.frontier.append(node)\n",
    "            self.uscFrontier.append([node, 0])\n",
    "        else:\n",
    "            self.frontier.append(node)\n",
    "            \n",
    "            weight =0 \n",
    "            child = node \n",
    "            \n",
    "            #Calculate the time taken from the initial node to the current node. \n",
    "            while child.time is not None: \n",
    "                weight = child.time + weight\n",
    "                child = child.parent\n",
    "            \n",
    "            #Adds platform change penalisation. \n",
    "            tubeLine_parent=node.parent.tubeLine\n",
    "            tubeLine_child = node.tubeLine\n",
    "            if tubeLine_parent is not None:\n",
    "                #If we change the tube Line. Add 2 minites. \n",
    "                if tubeLine_parent != tubeLine_child:\n",
    "                    weight +=2 \n",
    "                    #If there are 4 or 5 platforms add additional minutes.\n",
    "                    if platforms==4:\n",
    "                        weight +=1\n",
    "                    elif platforms==5: \n",
    "                        weight +=2                        \n",
    "                    #if there are more than 5 platforms add 30 seconds per platform. \n",
    "                    elif platforms>5:\n",
    "                        weight += (2 + (platforms-5)*0.5)\n",
    "            \n",
    "            \n",
    "            self.uscFrontier.append([node, weight])\n",
    "            #Sort the nodes in the frontier according to the commutation time that has been saved in the uscFrontier array. \n",
    "            newFrontier= sorted(self.uscFrontier, key=lambda x:x[1], reverse=False)\n",
    "            \n",
    "            newFrontier2 = []\n",
    "            for x in newFrontier:\n",
    "                if x[0] in self.frontier:\n",
    "                    newFrontier2.append(x[0])\n",
    "                    \n",
    "            self.frontier=[]\n",
    "            self.frontier=newFrontier2 \n",
    "            "
   ]
  },
  {
   "cell_type": "markdown",
   "id": "11a93a30-c9ba-4754-a47c-fcc4914c4f66",
   "metadata": {},
   "source": [
    "The following function is the same as the findPath function, the only thing that changes is that the addNode function will include the number of platforms as parameters. "
   ]
  },
  {
   "cell_type": "code",
   "execution_count": 382,
   "id": "a1197721-ce80-4131-9a17-20fbd5253239",
   "metadata": {
    "tags": []
   },
   "outputs": [],
   "source": [
    "def ucs_i(nxData, start, end):\n",
    "    startNode = Node(state=start, parent=None, time=None, tubeLine=None)\n",
    "    \n",
    "    #Initialise the improved UCS class. \n",
    "    frontier=UCS_im()\n",
    "   \n",
    "    #the node and its tubeLine will be added to the frontier and to the explored set.\n",
    "    frontier.addNode(startNode, None)\n",
    "    \n",
    "    explored=set()\n",
    "    explored.add((start, None))\n",
    "    num_explored =1 \n",
    "    \n",
    "    #while a path has not been found and the frontier is not empty, the function will look for the best route.  \n",
    "    while True: \n",
    "        if frontier.isEmpty(): \n",
    "            return None, None\n",
    "        else:\n",
    "            currentNode= frontier.removeNode()\n",
    "\n",
    "            num_explored +=1\n",
    "            \n",
    "            #If destinations has been reached, return the path and the time it takes to reach.\n",
    "            if currentNode.state == end:\n",
    "                route, timeTaken = routeToDestination(currentNode)\n",
    "                return route, timeTaken, num_explored\n",
    "            \n",
    "            #if the removed node does not correspond to the goal station, we will look for the next stations we can go through.\n",
    "            neighbours =nxData.neighbors(currentNode.state)\n",
    "            #Save the number of platforms of each station. \n",
    "            platforms = len(list(nxData.neighbors(currentNode.state)))\n",
    "            \n",
    "            for neighbour in neighbours:\n",
    "                stationTime =nxData[currentNode.state][neighbour][\"weight\"]\n",
    "                tube =nxData[currentNode.state][neighbour][\"tubeLine\"]\n",
    "               \n",
    "                #For each estation, a child node is created and added to the frontier for further exploration, \n",
    "                child = Node(state=neighbour, parent=currentNode, time=stationTime, tubeLine = tube)\n",
    "\n",
    "                if (neighbour, tube) not in explored:                                      \n",
    "                    frontier.addNode(child, platforms)\n",
    "                    explored.add((child.state, child.tubeLine))\n",
    "                            \n",
    " "
   ]
  },
  {
   "cell_type": "markdown",
   "id": "13bb3a1f-d4d7-49c3-a932-002d0f2a2e98",
   "metadata": {},
   "source": [
    "## 3.1 Experimental results. "
   ]
  },
  {
   "cell_type": "markdown",
   "id": "a3744c1a-1ace-4862-bc8f-5500fc34dc30",
   "metadata": {},
   "source": [
    "Results obtained for the path between Euston and Victoria station. "
   ]
  },
  {
   "cell_type": "code",
   "execution_count": 383,
   "id": "db9a981a-af32-48bf-901e-f3cfe8493a35",
   "metadata": {},
   "outputs": [
    {
     "name": "stdout",
     "output_type": "stream",
     "text": [
      "UCS algorithm outputs the following path:\n",
      "['Euston', 'Warren Street', 'Oxford Circus', 'Green Park', 'Victoria']\u001b[1m\n",
      "The time taken to reach destination is: 7.0. And 31 nodes have been exploded \n",
      "\u001b[0m\n",
      "UCS_improved algorithm outputs the following path:\n",
      "['Euston', 'Warren Street', 'Oxford Circus', 'Green Park', 'Victoria']\u001b[1m\n",
      "The time taken to reach destination is: 7.0. And 18 nodes have been exploded \n",
      "\u001b[0m\n"
     ]
    }
   ],
   "source": [
    "path, timing , num_explored= findPath(tubeData,\"Euston\", \"Victoria\", \"UCS\")\n",
    "print(\"UCS algorithm outputs the following path:\\n\" + str(path) + '\\033[1m'\"\\nThe time taken to reach destination is: \"+str(timing)+\". And \"+str(num_explored) + \" nodes have been exploded \\n\"'\\033[0m')\n",
    "\n",
    "path, timing, num_explored = ucs_i(tubeData, \"Euston\", \"Victoria\")\n",
    "print(\"UCS_improved algorithm outputs the following path:\\n\" + str(path) + '\\033[1m'\"\\nThe time taken to reach destination is: \"+str(timing)+\". And \"+str(num_explored) + \" nodes have been exploded \\n\"'\\033[0m')\n"
   ]
  },
  {
   "cell_type": "markdown",
   "id": "0f3f5490-5130-467f-9cd1-eba99ece5ea0",
   "metadata": {},
   "source": [
    "Results obtained for the path between Canada Water and Stratford station. "
   ]
  },
  {
   "cell_type": "code",
   "execution_count": 384,
   "id": "ad6929d7-5138-4bf2-bfb7-f80cd0adff9e",
   "metadata": {},
   "outputs": [
    {
     "name": "stdout",
     "output_type": "stream",
     "text": [
      "UCS algorithm outputs the following path:\n",
      "['Canada Water', 'Rotherhithe', 'Wapping', 'Shadwell', 'Whitechapel', 'Stepney Green', 'Mile End', 'Stratford']\u001b[1m\n",
      "The time taken to reach destination is: 14.0. And 53 nodes have been exploded \n",
      "\u001b[0m\n",
      "UCS_improved algorithm outputs the following path:\n",
      "['Canada Water', 'Canary Wharf', 'North Greenwich', 'Canning Town', 'West Ham', 'Stratford']\u001b[1m\n",
      "The time taken to reach destination is: 15.0. And 63 nodes have been exploded \n",
      "\u001b[0m\n"
     ]
    }
   ],
   "source": [
    "path, timing , num_explored= findPath(tubeData,\"Canada Water\", \"Stratford\", \"UCS\")\n",
    "print(\"UCS algorithm outputs the following path:\\n\" + str(path) + '\\033[1m'\"\\nThe time taken to reach destination is: \"+str(timing)+\". And \"+str(num_explored) + \" nodes have been exploded \\n\"'\\033[0m')\n",
    "\n",
    "path, timing, num_explored = ucs_i(tubeData, \"Canada Water\", \"Stratford\")\n",
    "print(\"UCS_improved algorithm outputs the following path:\\n\" + str(path) + '\\033[1m'\"\\nThe time taken to reach destination is: \"+str(timing)+\". And \"+str(num_explored) + \" nodes have been exploded \\n\"'\\033[0m')\n"
   ]
  },
  {
   "cell_type": "raw",
   "id": "7c4aa04d-bb46-4870-b32e-2658ff162ae4",
   "metadata": {},
   "source": [
    "Results obtained for the path between New Cross Gate and Stepney Green station. "
   ]
  },
  {
   "cell_type": "code",
   "execution_count": 385,
   "id": "2f405d49-b10f-4616-8ea8-af09a891e6a1",
   "metadata": {},
   "outputs": [
    {
     "name": "stdout",
     "output_type": "stream",
     "text": [
      "UCS algorithm outputs the following path:\n",
      "['New Cross Gate', 'Surrey Quays', 'Canada Water', 'Rotherhithe', 'Wapping', 'Shadwell', 'Whitechapel', 'Stepney Green']\u001b[1m\n",
      "The time taken to reach destination is: 14.0. And 19 nodes have been exploded \n",
      "\u001b[0m\n",
      "UCS_improved algorithm outputs the following path:\n",
      "['New Cross Gate', 'Surrey Quays', 'Canada Water', 'Rotherhithe', 'Wapping', 'Shadwell', 'Whitechapel', 'Stepney Green']\u001b[1m\n",
      "The time taken to reach destination is: 14.0. And 28 nodes have been exploded \n",
      "\u001b[0m\n"
     ]
    }
   ],
   "source": [
    "path, timing , num_explored= findPath(tubeData,\"New Cross Gate\", \"Stepney Green\", \"UCS\")\n",
    "print(\"UCS algorithm outputs the following path:\\n\" + str(path) + '\\033[1m'\"\\nThe time taken to reach destination is: \"+str(timing)+\". And \"+str(num_explored) + \" nodes have been exploded \\n\"'\\033[0m')\n",
    "\n",
    "path, timing, num_explored = ucs_i(tubeData, \"New Cross Gate\", \"Stepney Green\")\n",
    "print(\"UCS_improved algorithm outputs the following path:\\n\" + str(path) + '\\033[1m'\"\\nThe time taken to reach destination is: \"+str(timing)+\". And \"+str(num_explored) + \" nodes have been exploded \\n\"'\\033[0m')\n"
   ]
  },
  {
   "cell_type": "markdown",
   "id": "934d8805-3ea8-4145-93eb-36a0a4665811",
   "metadata": {},
   "source": [
    "Results obtained for the path between Ealing Broadway and South Kensignton station. "
   ]
  },
  {
   "cell_type": "code",
   "execution_count": 386,
   "id": "0b0728a2-2073-41c6-8419-50a6ba167000",
   "metadata": {},
   "outputs": [
    {
     "name": "stdout",
     "output_type": "stream",
     "text": [
      "UCS algorithm outputs the following path:\n",
      "['Ealing Broadway', 'Ealing Common', 'Acton Town', 'Turnham Green', 'Hammersmith', 'Barons Court', \"Earls' Court\", 'Gloucester Road', 'South Kensington']\u001b[1m\n",
      "The time taken to reach destination is: 20.0. And 54 nodes have been exploded \n",
      "\u001b[0m\n",
      "UCS_improved algorithm outputs the following path:\n",
      "['Ealing Broadway', 'Ealing Common', 'Acton Town', 'Turnham Green', 'Hammersmith', 'Barons Court', \"Earls' Court\", 'Gloucester Road', 'South Kensington']\u001b[1m\n",
      "The time taken to reach destination is: 20.0. And 59 nodes have been exploded \n",
      "\u001b[0m\n"
     ]
    }
   ],
   "source": [
    "path, timing , num_explored= findPath(tubeData,\"Ealing Broadway\", \"South Kensington\", \"UCS\")\n",
    "print(\"UCS algorithm outputs the following path:\\n\" + str(path) + '\\033[1m'\"\\nThe time taken to reach destination is: \"+str(timing)+\". And \"+str(num_explored) + \" nodes have been exploded \\n\"'\\033[0m')\n",
    "\n",
    "path, timing, num_explored = ucs_i(tubeData, \"Ealing Broadway\", \"South Kensington\")\n",
    "print(\"UCS_improved algorithm outputs the following path:\\n\" + str(path) + '\\033[1m'\"\\nThe time taken to reach destination is: \"+str(timing)+\". And \"+str(num_explored) + \" nodes have been exploded \\n\"'\\033[0m')\n"
   ]
  },
  {
   "cell_type": "markdown",
   "id": "0269163f-8335-4bbe-bcde-417bf1be9802",
   "metadata": {},
   "source": [
    "Results obtained for the path between Baker Street and Wembley Park station. "
   ]
  },
  {
   "cell_type": "code",
   "execution_count": 387,
   "id": "1c6b4ada-243a-4a25-9d0e-2b1f922ab661",
   "metadata": {},
   "outputs": [
    {
     "name": "stdout",
     "output_type": "stream",
     "text": [
      "UCS algorithm outputs the following path:\n",
      "['Baker Street', 'Finchley Road', 'Wembley Park']\u001b[1m\n",
      "The time taken to reach destination is: 13.0. And 71 nodes have been exploded \n",
      "\u001b[0m\n",
      "UCS_improved algorithm outputs the following path:\n",
      "['Baker Street', 'Finchley Road', 'Wembley Park']\u001b[1m\n",
      "The time taken to reach destination is: 13.0. And 80 nodes have been exploded \n",
      "\u001b[0m\n"
     ]
    }
   ],
   "source": [
    "path, timing , num_explored= findPath(tubeData,\"Baker Street\", \"Wembley Park\", \"UCS\")\n",
    "print(\"UCS algorithm outputs the following path:\\n\" + str(path) + '\\033[1m'\"\\nThe time taken to reach destination is: \"+str(timing)+\". And \"+str(num_explored) + \" nodes have been exploded \\n\"'\\033[0m')\n",
    "\n",
    "path, timing, num_explored = ucs_i(tubeData, \"Baker Street\", \"Wembley Park\")\n",
    "print(\"UCS_improved algorithm outputs the following path:\\n\" + str(path) + '\\033[1m'\"\\nThe time taken to reach destination is: \"+str(timing)+\". And \"+str(num_explored) + \" nodes have been exploded \\n\"'\\033[0m')\n"
   ]
  },
  {
   "cell_type": "markdown",
   "id": "b731e1be-c7ea-436d-9512-e95e9b8d21a0",
   "metadata": {},
   "source": [
    "Results obtained for the path between Epping and Victoria Wanstead. "
   ]
  },
  {
   "cell_type": "code",
   "execution_count": 388,
   "id": "8c70a7c0-24e4-4a91-9a84-12185c73b9a5",
   "metadata": {},
   "outputs": [
    {
     "name": "stdout",
     "output_type": "stream",
     "text": [
      "UCS algorithm outputs the following path:\n",
      "['Epping', 'Theydon Bois', 'Debden', 'Loughton', 'Buckhurst Hill', 'Woodford', 'South Woodford', 'Snaresbrook', 'Leytonstone', 'Wanstead']\u001b[1m\n",
      "The time taken to reach destination is: 20.0. And 14 nodes have been exploded \n",
      "\u001b[0m\n",
      "UCS_improved algorithm outputs the following path:\n",
      "['Epping', 'Theydon Bois', 'Debden', 'Loughton', 'Buckhurst Hill', 'Woodford', 'South Woodford', 'Snaresbrook', 'Leytonstone', 'Wanstead']\u001b[1m\n",
      "The time taken to reach destination is: 20.0. And 15 nodes have been exploded \n",
      "\u001b[0m\n"
     ]
    }
   ],
   "source": [
    "path, timing , num_explored= findPath(tubeData,\"Epping\", \"Wanstead\", \"UCS\")\n",
    "print(\"UCS algorithm outputs the following path:\\n\" + str(path) + '\\033[1m'\"\\nThe time taken to reach destination is: \"+str(timing)+\". And \"+str(num_explored) + \" nodes have been exploded \\n\"'\\033[0m')\n",
    "\n",
    "path, timing, num_explored = ucs_i(tubeData, \"Epping\", \"Wanstead\")\n",
    "print(\"UCS_improved algorithm outputs the following path:\\n\" + str(path) + '\\033[1m'\"\\nThe time taken to reach destination is: \"+str(timing)+\". And \"+str(num_explored) + \" nodes have been exploded \\n\"'\\033[0m')\n"
   ]
  },
  {
   "cell_type": "markdown",
   "id": "7dec3bad-4208-4ea2-8401-c7a080f2c3c5",
   "metadata": {},
   "source": [
    "Results obtained for the path between Westminster and Piccadilly Circus station. "
   ]
  },
  {
   "cell_type": "code",
   "execution_count": 389,
   "id": "ea01611e-ad6c-432a-9685-669aeae72602",
   "metadata": {},
   "outputs": [
    {
     "name": "stdout",
     "output_type": "stream",
     "text": [
      "UCS algorithm outputs the following path:\n",
      "['Westminster', 'Green Park', 'Piccadilly Circus']\u001b[1m\n",
      "The time taken to reach destination is: 4.0. And 12 nodes have been exploded \n",
      "\u001b[0m\n",
      "UCS_improved algorithm outputs the following path:\n",
      "['Westminster', 'Embankment', 'Charing Cross', 'Piccadilly Circus']\u001b[1m\n",
      "The time taken to reach destination is: 5.0. And 21 nodes have been exploded \n",
      "\u001b[0m\n"
     ]
    }
   ],
   "source": [
    "path, timing , num_explored= findPath(tubeData,\"Westminster\", \"Piccadilly Circus\", \"UCS\")\n",
    "print(\"UCS algorithm outputs the following path:\\n\" + str(path) + '\\033[1m'\"\\nThe time taken to reach destination is: \"+str(timing)+\". And \"+str(num_explored) + \" nodes have been exploded \\n\"'\\033[0m')\n",
    "\n",
    "path, timing, num_explored = ucs_i(tubeData, \"Westminster\", \"Piccadilly Circus\")\n",
    "print(\"UCS_improved algorithm outputs the following path:\\n\" + str(path) + '\\033[1m'\"\\nThe time taken to reach destination is: \"+str(timing)+\". And \"+str(num_explored) + \" nodes have been exploded \\n\"'\\033[0m')\n"
   ]
  },
  {
   "cell_type": "markdown",
   "id": "c77174ba-4b5d-4d64-95f0-e3249cec3e9c",
   "metadata": {},
   "source": [
    "# 4. Heurisitc implementation"
   ]
  },
  {
   "cell_type": "code",
   "execution_count": 390,
   "id": "8d4d5933-d49c-4a0b-901a-b86fe85a2d3c",
   "metadata": {},
   "outputs": [],
   "source": [
    "class NodeX(): \n",
    "    def __init__(self, state, parent, time, tubeLine, mainZone, secZone):\n",
    "        self.state=state\n",
    "        self.parent=parent\n",
    "        self.time=time\n",
    "        self.tubeLine = tubeLine\n",
    "        self.mainZone = mainZone\n",
    "        self.secZone=secZone"
   ]
  },
  {
   "cell_type": "code",
   "execution_count": 391,
   "id": "cedf339b-b3c5-4656-80be-c81f7b54d890",
   "metadata": {},
   "outputs": [],
   "source": [
    "#This function will provide the stations main and secondary zones. \n",
    "def stationZones(tubeData, target):\n",
    "    endNeighobur=tubeData.neighbors(target)\n",
    "    endFron=set()\n",
    "    endFron2=[]\n",
    "    n=\"\"\n",
    "    yn=False\n",
    "    for neighbour in endNeighobur:\n",
    "        n=neighbour        \n",
    "        if tubeData[target][neighbour][\"secondaryZone\"]!=\"0\":\n",
    "            yn=True\n",
    "            break\n",
    "            \n",
    "    #If the neighbours' secondary zone is same as the main zone, the secondary zone will be returned with the same value as the main zone. \n",
    "    if yn:\n",
    "        mainZone=tubeData[target][n][\"mainZone\"]\n",
    "        secondaryZone = tubeData[target][n][\"secondaryZone\"]\n",
    "    else:\n",
    "        mainZone=tubeData[target][n][\"mainZone\"]\n",
    "        secondaryZone = tubeData[target][n][\"mainZone\"]\n",
    "    \n",
    "    return mainZone, secondaryZone\n",
    "\n"
   ]
  },
  {
   "cell_type": "code",
   "execution_count": 392,
   "id": "80308490-3b3b-4513-a490-82bd2ae72c01",
   "metadata": {},
   "outputs": [],
   "source": [
    "class UCS_heuristic(BFS):\n",
    "\n",
    "    def __init__(self):\n",
    "        self.frontier=[]\n",
    "        #Stores as a tuple the nodes that have been added to the frontier and its corresponding commutation time including the penalisation for changing tube line.\n",
    "        self.uscFrontier= []\n",
    "        \n",
    "    def addNode(self,node, platforms, end_mainZone, end_secZone, mainZone, secondaryZone): \n",
    "        #If it is the starting node, it will be added to the frontier and the usc will set the commutation time to 0.                         \n",
    "        if node.time == None: \n",
    "            self.frontier.append(node)\n",
    "            self.uscFrontier.append([node, 0])\n",
    "        else:\n",
    "            self.frontier.append(node)\n",
    "            \n",
    "            weight =0 \n",
    "            child = node \n",
    "            \n",
    "            #Calculate the time taken from the initial node to the current node. \n",
    "            while child.time is not None: \n",
    "                weight = child.time + weight\n",
    "                child = child.parent\n",
    "                \n",
    "            #Adds platform change penalisation.\n",
    "            tubeLine_parent=node.parent.tubeLine\n",
    "            tubeLine_child = node.tubeLine\n",
    "            if tubeLine_parent is not None: \n",
    "                #If we change the tube Line. Add 2 minutes. \n",
    "                if tubeLine_parent != tubeLine_child:\n",
    "                    weight +=2 \n",
    "                    #If there are 4 or 5 platforms add additional minutes.\n",
    "                    if platforms==4:\n",
    "                        weight +=1\n",
    "                    elif platforms==5: \n",
    "                        weight +=2                        \n",
    "                    #if there are more than 5 platforms add 30 seconds per platform. \n",
    "                    elif platforms>5:\n",
    "                        weight += (2 + (platforms-5)*0.5)\n",
    "            \n",
    "                    \n",
    "                    \n",
    "            \n",
    "            parents=node.parent\n",
    "            p_mainZone = parents.mainZone\n",
    "            p_secZone = parents.secZone\n",
    "            \n",
    "            #dictionary that will convert the zone strings to an integer number, in order to facilitate further mathematical operations. \n",
    "            zonesDict ={\"1\": 1, \"2\": 2, \"3\": 3, \"4\":4, \"5\": 5, \"6\": 6, \"a\": 7, \"b\": 8, \"c\": 9, \"d\": 10}  \n",
    "            end_mainZone = zonesDict[end_mainZone]\n",
    "            end_secZone = zonesDict[end_secZone]\n",
    "            mainZone = zonesDict[mainZone]\n",
    "            secondaryZone = zonesDict[secondaryZone]\n",
    "            p_mainZone = zonesDict[p_mainZone]\n",
    "            p_secZone = zonesDict[p_secZone]\n",
    "            \n",
    "            #If the current station is in the same zone, no penalisation\n",
    "            if mainZone==end_mainZone or secondaryZone==end_mainZone or mainZone==end_secZone or secondaryZone==end_secZone:\n",
    "                    pass\n",
    "            else:\n",
    "                #if the previous station and the current station are in the same zone --> penalisation = 0.5\n",
    "                if p_mainZone == mainZone or p_mainZone == secondaryZone or p_secZone == mainZone or p_secZone == secondaryZone:\n",
    "                    weight +=1.5\n",
    "                    \n",
    "                #if the previous station and the current station are in not in the same zone\n",
    "                #but we are moving in the correct direction (outside to inside)--> penalisation = 1, otherwise 2\n",
    "                elif mainZone >end_mainZone or secondaryZone>end_mainZone or mainZone >end_secZone or secondaryZone>end_secZone: \n",
    "                    if p_mainZone == mainZone+1 or p_mainZone == secondaryZone+1 or p_secZone == mainZone+1 or p_secZone == secondaryZone+1:\n",
    "                        weight +=1\n",
    "                    else:\n",
    "                        weight +=2\n",
    "                \n",
    "                #if the previous station and the current station are in not in the same zone\n",
    "                #but we are moving in the correct direction (inside to outside)--> penalisation = 1, otherwise 2\n",
    "                else: \n",
    "                    if p_mainZone == mainZone-1 or p_mainZone == secondaryZone-1 or p_secZone == mainZone-1 or p_secZone == secondaryZone-1:\n",
    "                        weight +=1\n",
    "                    else:\n",
    "                        weight +=2\n",
    "\n",
    "            \n",
    "\n",
    "            self.uscFrontier.append([node, weight])\n",
    "            \n",
    "            #Sort the nodes in the frontier according to the commutation time that has been saved in the uscFrontier array. \n",
    "            newFrontier= sorted(self.uscFrontier, key=lambda x:x[1], reverse=False)\n",
    "            \n",
    "            newFrontier2 = []\n",
    "            for x in newFrontier:\n",
    "                if x[0] in self.frontier:\n",
    "                    newFrontier2.append(x[0])\n",
    "                    \n",
    "            self.frontier=[]\n",
    "            self.frontier=newFrontier2\n",
    "            "
   ]
  },
  {
   "cell_type": "code",
   "execution_count": 404,
   "id": "e915ead5-2852-4f1b-8e68-fd3580ce9c4d",
   "metadata": {},
   "outputs": [],
   "source": [
    "def ucs_h(nxData, start, end):\n",
    "    \n",
    "    start_mainZone, start_secZone = stationZones(nxData, start)\n",
    "    startNode = NodeX(state=start, parent=None, time=None, tubeLine=None, mainZone=start_mainZone, secZone=start_secZone)\n",
    "    \n",
    "    #Initialise the improved UCS class. \n",
    "    frontier=UCS_heuristic()\n",
    "    \n",
    "    #the node and its tubeLine will be added to the frontier and to the explored set. \n",
    "    frontier.addNode(startNode, 0, None, None, None, None)\n",
    "    \n",
    "    explored=set()\n",
    "    explored.add((start, None))\n",
    "    num_explored =1 \n",
    "    \n",
    "    end_mainZone, end_secZone = stationZones(nxData, end)\n",
    "        \n",
    "    \n",
    "    #while a path has not been found and the frontier is not empty, the function will look for the best route.      \n",
    "    while True: \n",
    "        if frontier.isEmpty(): \n",
    "            return None, None\n",
    "        else:\n",
    "            currentNode= frontier.removeNode()  \n",
    "            num_explored +=1\n",
    "                        \n",
    "            #If destinations has been reached, return the path and the time it takes to reach.\n",
    "            if currentNode.state == end:\n",
    "                route, timeTaken = routeToDestination(currentNode)\n",
    "                return route, timeTaken, num_explored\n",
    "            \n",
    "            #if the removed node does not correspond to the goal station, we will look for the next stations we can go through.\n",
    "            neighbours = nxData.neighbors(currentNode.state)\n",
    "            #Save the platforms of the station. \n",
    "            platforms = len(list(nxData.neighbors(currentNode.state)))\n",
    "            \n",
    "            for neighbour in neighbours:\n",
    "                stationTime =nxData[currentNode.state][neighbour][\"weight\"]\n",
    "                tube =nxData[currentNode.state][neighbour][\"tubeLine\"]\n",
    "                mainZone, secondaryZone =stationZones(nxData, currentNode.state)\n",
    "        \n",
    "                child = NodeX(state=neighbour, parent=currentNode, time=stationTime, tubeLine = tube, mainZone=mainZone,secZone= secondaryZone)\n",
    "                \n",
    "                #For each estation, a child node is created and added to the frontier for further exploration, \n",
    "                if (neighbour, tube) not in explored:                                      \n",
    "                    frontier.addNode(child, platforms, end_mainZone, end_secZone, mainZone, secondaryZone)\n",
    "                    explored.add((child.state, child.tubeLine))\n",
    "                            \n",
    " "
   ]
  },
  {
   "cell_type": "markdown",
   "id": "e86edeea-6cc8-4488-83a1-c801a9af5f46",
   "metadata": {},
   "source": [
    "## 4.1 Experimental resutls. "
   ]
  },
  {
   "cell_type": "markdown",
   "id": "b1e0a726-67a4-49cb-b8e6-2b8c1827693c",
   "metadata": {},
   "source": [
    "Results obtained for the path between Euston and Victoria station. "
   ]
  },
  {
   "cell_type": "code",
   "execution_count": 405,
   "id": "b0615eb7-3457-4918-a97c-86e61614d41d",
   "metadata": {},
   "outputs": [
    {
     "name": "stdout",
     "output_type": "stream",
     "text": [
      "UCS algorithm outputs the following path:\n",
      "['Euston', 'Warren Street', 'Oxford Circus', 'Green Park', 'Victoria']\u001b[1m\n",
      "The time taken to reach destination is: 7.0. And 31 nodes have been exploded \n",
      "\u001b[0m\n",
      "UCS_improved algorithm outputs the following path:\n",
      "['Euston', 'Warren Street', 'Oxford Circus', 'Green Park', 'Victoria']\u001b[1m\n",
      "The time taken to reach destination is: 7.0. And 18 nodes have been exploded \n",
      "\u001b[0m\n",
      "UCS_heuristic algorithm outputs the following path:\n",
      "['Euston', 'Warren Street', 'Oxford Circus', 'Green Park', 'Victoria']\u001b[1m\n",
      "The time taken to reach destination is: 7.0. And 17 nodes have been exploded \n",
      "\u001b[0m\n"
     ]
    }
   ],
   "source": [
    "path, timing , num_explored= findPath(tubeData,\"Euston\", \"Victoria\", \"UCS\")\n",
    "print(\"UCS algorithm outputs the following path:\\n\" + str(path) + '\\033[1m'\"\\nThe time taken to reach destination is: \"+str(timing)+\". And \"+str(num_explored) + \" nodes have been exploded \\n\"'\\033[0m')\n",
    "\n",
    "path, timing, num_explored = ucs_i(tubeData, \"Euston\", \"Victoria\")\n",
    "print(\"UCS_improved algorithm outputs the following path:\\n\" + str(path) + '\\033[1m'\"\\nThe time taken to reach destination is: \"+str(timing)+\". And \"+str(num_explored) + \" nodes have been exploded \\n\"'\\033[0m')\n",
    "\n",
    "path, timing, num_explored = ucs_h(tubeData, \"Euston\", \"Victoria\")\n",
    "print(\"UCS_heuristic algorithm outputs the following path:\\n\" + str(path) + '\\033[1m'\"\\nThe time taken to reach destination is: \"+str(timing)+\". And \"+str(num_explored) + \" nodes have been exploded \\n\"'\\033[0m')\n"
   ]
  },
  {
   "cell_type": "markdown",
   "id": "c6e65f85-d429-4653-bf5b-cfd3585d8ad9",
   "metadata": {},
   "source": [
    "Results obtained for the path between Canada Water and Stratford station. "
   ]
  },
  {
   "cell_type": "code",
   "execution_count": 406,
   "id": "290115b1-2b3b-4f7b-8f7b-b3b8ae76e861",
   "metadata": {},
   "outputs": [
    {
     "name": "stdout",
     "output_type": "stream",
     "text": [
      "UCS algorithm outputs the following path:\n",
      "['Canada Water', 'Rotherhithe', 'Wapping', 'Shadwell', 'Whitechapel', 'Stepney Green', 'Mile End', 'Stratford']\u001b[1m\n",
      "The time taken to reach destination is: 14.0. And 53 nodes have been exploded \n",
      "\u001b[0m\n",
      "UCS_improved algorithm outputs the following path:\n",
      "['Canada Water', 'Canary Wharf', 'North Greenwich', 'Canning Town', 'West Ham', 'Stratford']\u001b[1m\n",
      "The time taken to reach destination is: 15.0. And 63 nodes have been exploded \n",
      "\u001b[0m\n",
      "UCS_heuristic algorithm outputs the following path:\n",
      "['Canada Water', 'Canary Wharf', 'North Greenwich', 'Canning Town', 'West Ham', 'Stratford']\u001b[1m\n",
      "The time taken to reach destination is: 15.0. And 41 nodes have been exploded \n",
      "\u001b[0m\n"
     ]
    }
   ],
   "source": [
    "path, timing , num_explored= findPath(tubeData,\"Canada Water\", \"Stratford\", \"UCS\")\n",
    "print(\"UCS algorithm outputs the following path:\\n\" + str(path) + '\\033[1m'\"\\nThe time taken to reach destination is: \"+str(timing)+\". And \"+str(num_explored) + \" nodes have been exploded \\n\"'\\033[0m')\n",
    "\n",
    "path, timing, num_explored = ucs_i(tubeData, \"Canada Water\", \"Stratford\")\n",
    "print(\"UCS_improved algorithm outputs the following path:\\n\" + str(path) + '\\033[1m'\"\\nThe time taken to reach destination is: \"+str(timing)+\". And \"+str(num_explored) + \" nodes have been exploded \\n\"'\\033[0m')\n",
    "\n",
    "path, timing, num_explored = ucs_h(tubeData, \"Canada Water\", \"Stratford\")\n",
    "print(\"UCS_heuristic algorithm outputs the following path:\\n\" + str(path) + '\\033[1m'\"\\nThe time taken to reach destination is: \"+str(timing)+\". And \"+str(num_explored) + \" nodes have been exploded \\n\"'\\033[0m')\n"
   ]
  },
  {
   "cell_type": "raw",
   "id": "6e2a9fcf-8d1b-49e3-a0a0-77067a950d8c",
   "metadata": {},
   "source": [
    "Results obtained for the path between New Cross Gate and Stepney Green station. "
   ]
  },
  {
   "cell_type": "code",
   "execution_count": 407,
   "id": "91f2a259-4b5f-4f75-b8f7-cc029fbd4721",
   "metadata": {},
   "outputs": [
    {
     "name": "stdout",
     "output_type": "stream",
     "text": [
      "UCS algorithm outputs the following path:\n",
      "['New Cross Gate', 'Surrey Quays', 'Canada Water', 'Rotherhithe', 'Wapping', 'Shadwell', 'Whitechapel', 'Stepney Green']\u001b[1m\n",
      "The time taken to reach destination is: 14.0. And 19 nodes have been exploded \n",
      "\u001b[0m\n",
      "UCS_improved algorithm outputs the following path:\n",
      "['New Cross Gate', 'Surrey Quays', 'Canada Water', 'Rotherhithe', 'Wapping', 'Shadwell', 'Whitechapel', 'Stepney Green']\u001b[1m\n",
      "The time taken to reach destination is: 14.0. And 28 nodes have been exploded \n",
      "\u001b[0m\n",
      "UCS_heuristic algorithm outputs the following path:\n",
      "['New Cross Gate', 'Surrey Quays', 'Canada Water', 'Rotherhithe', 'Wapping', 'Shadwell', 'Whitechapel', 'Stepney Green']\u001b[1m\n",
      "The time taken to reach destination is: 14.0. And 21 nodes have been exploded \n",
      "\u001b[0m\n"
     ]
    }
   ],
   "source": [
    "path, timing , num_explored= findPath(tubeData,\"New Cross Gate\", \"Stepney Green\", \"UCS\")\n",
    "print(\"UCS algorithm outputs the following path:\\n\" + str(path) + '\\033[1m'\"\\nThe time taken to reach destination is: \"+str(timing)+\". And \"+str(num_explored) + \" nodes have been exploded \\n\"'\\033[0m')\n",
    "\n",
    "path, timing, num_explored = ucs_i(tubeData, \"New Cross Gate\", \"Stepney Green\")\n",
    "print(\"UCS_improved algorithm outputs the following path:\\n\" + str(path) + '\\033[1m'\"\\nThe time taken to reach destination is: \"+str(timing)+\". And \"+str(num_explored) + \" nodes have been exploded \\n\"'\\033[0m')\n",
    "\n",
    "path, timing, num_explored = ucs_h(tubeData, \"New Cross Gate\", \"Stepney Green\")\n",
    "print(\"UCS_heuristic algorithm outputs the following path:\\n\" + str(path) + '\\033[1m'\"\\nThe time taken to reach destination is: \"+str(timing)+\". And \"+str(num_explored) + \" nodes have been exploded \\n\"'\\033[0m')\n"
   ]
  },
  {
   "cell_type": "markdown",
   "id": "5103114a-3a77-4d02-91cd-1b1235bde40c",
   "metadata": {},
   "source": [
    "Results obtained for the path between Ealing Broadway and South Kensignton station. "
   ]
  },
  {
   "cell_type": "code",
   "execution_count": 408,
   "id": "b0563553-d4ce-4b57-b5da-1ce347dbd532",
   "metadata": {},
   "outputs": [
    {
     "name": "stdout",
     "output_type": "stream",
     "text": [
      "UCS algorithm outputs the following path:\n",
      "['Ealing Broadway', 'Ealing Common', 'Acton Town', 'Turnham Green', 'Hammersmith', 'Barons Court', \"Earls' Court\", 'Gloucester Road', 'South Kensington']\u001b[1m\n",
      "The time taken to reach destination is: 20.0. And 54 nodes have been exploded \n",
      "\u001b[0m\n",
      "UCS_improved algorithm outputs the following path:\n",
      "['Ealing Broadway', 'Ealing Common', 'Acton Town', 'Turnham Green', 'Hammersmith', 'Barons Court', \"Earls' Court\", 'Gloucester Road', 'South Kensington']\u001b[1m\n",
      "The time taken to reach destination is: 20.0. And 59 nodes have been exploded \n",
      "\u001b[0m\n",
      "UCS_heuristic algorithm outputs the following path:\n",
      "['Ealing Broadway', 'Ealing Common', 'Acton Town', 'Turnham Green', 'Hammersmith', 'Barons Court', \"Earls' Court\", 'Gloucester Road', 'South Kensington']\u001b[1m\n",
      "The time taken to reach destination is: 20.0. And 55 nodes have been exploded \n",
      "\u001b[0m\n"
     ]
    }
   ],
   "source": [
    "path, timing , num_explored= findPath(tubeData,\"Ealing Broadway\", \"South Kensington\", \"UCS\")\n",
    "print(\"UCS algorithm outputs the following path:\\n\" + str(path) + '\\033[1m'\"\\nThe time taken to reach destination is: \"+str(timing)+\". And \"+str(num_explored) + \" nodes have been exploded \\n\"'\\033[0m')\n",
    "\n",
    "path, timing, num_explored = ucs_i(tubeData, \"Ealing Broadway\", \"South Kensington\")\n",
    "print(\"UCS_improved algorithm outputs the following path:\\n\" + str(path) + '\\033[1m'\"\\nThe time taken to reach destination is: \"+str(timing)+\". And \"+str(num_explored) + \" nodes have been exploded \\n\"'\\033[0m')\n",
    "\n",
    "path, timing, num_explored = ucs_h(tubeData, \"Ealing Broadway\", \"South Kensington\")\n",
    "print(\"UCS_heuristic algorithm outputs the following path:\\n\" + str(path) + '\\033[1m'\"\\nThe time taken to reach destination is: \"+str(timing)+\". And \"+str(num_explored) + \" nodes have been exploded \\n\"'\\033[0m')\n"
   ]
  },
  {
   "cell_type": "markdown",
   "id": "a1dd419f-a2b6-4350-98b3-7a65e7bd7d9f",
   "metadata": {},
   "source": [
    "Results obtained for the path between Baker Street and Wembley Park station. "
   ]
  },
  {
   "cell_type": "code",
   "execution_count": 409,
   "id": "edb3411c-31e9-4d77-b861-cfc8a2e7f76e",
   "metadata": {},
   "outputs": [
    {
     "name": "stdout",
     "output_type": "stream",
     "text": [
      "UCS algorithm outputs the following path:\n",
      "['Baker Street', 'Finchley Road', 'Wembley Park']\u001b[1m\n",
      "The time taken to reach destination is: 13.0. And 71 nodes have been exploded \n",
      "\u001b[0m\n",
      "UCS_improved algorithm outputs the following path:\n",
      "['Baker Street', 'Finchley Road', 'Wembley Park']\u001b[1m\n",
      "The time taken to reach destination is: 13.0. And 80 nodes have been exploded \n",
      "\u001b[0m\n",
      "UCS_heuristic algorithm outputs the following path:\n",
      "['Baker Street', 'Finchley Road', 'Wembley Park']\u001b[1m\n",
      "The time taken to reach destination is: 13.0. And 78 nodes have been exploded \n",
      "\u001b[0m\n"
     ]
    }
   ],
   "source": [
    "path, timing , num_explored= findPath(tubeData,\"Baker Street\", \"Wembley Park\", \"UCS\")\n",
    "print(\"UCS algorithm outputs the following path:\\n\" + str(path) + '\\033[1m'\"\\nThe time taken to reach destination is: \"+str(timing)+\". And \"+str(num_explored) + \" nodes have been exploded \\n\"'\\033[0m')\n",
    "\n",
    "path, timing, num_explored = ucs_i(tubeData, \"Baker Street\", \"Wembley Park\")\n",
    "print(\"UCS_improved algorithm outputs the following path:\\n\" + str(path) + '\\033[1m'\"\\nThe time taken to reach destination is: \"+str(timing)+\". And \"+str(num_explored) + \" nodes have been exploded \\n\"'\\033[0m')\n",
    "\n",
    "path, timing, num_explored = ucs_h(tubeData, \"Baker Street\", \"Wembley Park\")\n",
    "print(\"UCS_heuristic algorithm outputs the following path:\\n\" + str(path) + '\\033[1m'\"\\nThe time taken to reach destination is: \"+str(timing)+\". And \"+str(num_explored) + \" nodes have been exploded \\n\"'\\033[0m')\n"
   ]
  },
  {
   "cell_type": "markdown",
   "id": "ed51482e-2aa0-4efd-8bc0-268d76685e00",
   "metadata": {},
   "source": [
    "Results obtained for the path between Epping and Victoria Wanstead. "
   ]
  },
  {
   "cell_type": "code",
   "execution_count": 410,
   "id": "80fe2f7e-f8c4-4189-a0cf-1a2754259b17",
   "metadata": {},
   "outputs": [
    {
     "name": "stdout",
     "output_type": "stream",
     "text": [
      "UCS algorithm outputs the following path:\n",
      "['Epping', 'Theydon Bois', 'Debden', 'Loughton', 'Buckhurst Hill', 'Woodford', 'South Woodford', 'Snaresbrook', 'Leytonstone', 'Wanstead']\u001b[1m\n",
      "The time taken to reach destination is: 20.0. And 14 nodes have been exploded \n",
      "\u001b[0m\n",
      "UCS_improved algorithm outputs the following path:\n",
      "['Epping', 'Theydon Bois', 'Debden', 'Loughton', 'Buckhurst Hill', 'Woodford', 'South Woodford', 'Snaresbrook', 'Leytonstone', 'Wanstead']\u001b[1m\n",
      "The time taken to reach destination is: 20.0. And 15 nodes have been exploded \n",
      "\u001b[0m\n",
      "UCS_heuristic algorithm outputs the following path:\n",
      "['Epping', 'Theydon Bois', 'Debden', 'Loughton', 'Buckhurst Hill', 'Woodford', 'South Woodford', 'Snaresbrook', 'Leytonstone', 'Wanstead']\u001b[1m\n",
      "The time taken to reach destination is: 20.0. And 14 nodes have been exploded \n",
      "\u001b[0m\n"
     ]
    }
   ],
   "source": [
    "path, timing , num_explored= findPath(tubeData,\"Epping\", \"Wanstead\", \"UCS\")\n",
    "print(\"UCS algorithm outputs the following path:\\n\" + str(path) + '\\033[1m'\"\\nThe time taken to reach destination is: \"+str(timing)+\". And \"+str(num_explored) + \" nodes have been exploded \\n\"'\\033[0m')\n",
    "\n",
    "path, timing, num_explored = ucs_i(tubeData, \"Epping\", \"Wanstead\")\n",
    "print(\"UCS_improved algorithm outputs the following path:\\n\" + str(path) + '\\033[1m'\"\\nThe time taken to reach destination is: \"+str(timing)+\". And \"+str(num_explored) + \" nodes have been exploded \\n\"'\\033[0m')\n",
    "\n",
    "path, timing, num_explored = ucs_h(tubeData, \"Epping\", \"Wanstead\")\n",
    "print(\"UCS_heuristic algorithm outputs the following path:\\n\" + str(path) + '\\033[1m'\"\\nThe time taken to reach destination is: \"+str(timing)+\". And \"+str(num_explored) + \" nodes have been exploded \\n\"'\\033[0m')\n"
   ]
  },
  {
   "cell_type": "markdown",
   "id": "73b2946c-7dc7-4414-bcd5-775ce6444d8c",
   "metadata": {},
   "source": [
    "Results obtained for the path between Westminster and Piccadilly Circus station. "
   ]
  },
  {
   "cell_type": "code",
   "execution_count": 411,
   "id": "c157ed0e-46e5-4841-a540-9767bd8f7a2d",
   "metadata": {},
   "outputs": [
    {
     "name": "stdout",
     "output_type": "stream",
     "text": [
      "UCS algorithm outputs the following path:\n",
      "['Westminster', 'Green Park', 'Piccadilly Circus']\u001b[1m\n",
      "The time taken to reach destination is: 4.0. And 12 nodes have been exploded \n",
      "\u001b[0m\n",
      "UCS_improved algorithm outputs the following path:\n",
      "['Westminster', 'Embankment', 'Charing Cross', 'Piccadilly Circus']\u001b[1m\n",
      "The time taken to reach destination is: 5.0. And 21 nodes have been exploded \n",
      "\u001b[0m\n",
      "UCS_heuristic algorithm outputs the following path:\n",
      "['Westminster', 'Embankment', 'Charing Cross', 'Piccadilly Circus']\u001b[1m\n",
      "The time taken to reach destination is: 5.0. And 21 nodes have been exploded \n",
      "\u001b[0m\n"
     ]
    }
   ],
   "source": [
    "path, timing , num_explored= findPath(tubeData,\"Westminster\", \"Piccadilly Circus\", \"UCS\")\n",
    "print(\"UCS algorithm outputs the following path:\\n\" + str(path) + '\\033[1m'\"\\nThe time taken to reach destination is: \"+str(timing)+\". And \"+str(num_explored) + \" nodes have been exploded \\n\"'\\033[0m')\n",
    "\n",
    "path, timing, num_explored = ucs_i(tubeData, \"Westminster\", \"Piccadilly Circus\")\n",
    "print(\"UCS_improved algorithm outputs the following path:\\n\" + str(path) + '\\033[1m'\"\\nThe time taken to reach destination is: \"+str(timing)+\". And \"+str(num_explored) + \" nodes have been exploded \\n\"'\\033[0m')\n",
    "\n",
    "path, timing, num_explored = ucs_h(tubeData, \"Westminster\", \"Piccadilly Circus\")\n",
    "print(\"UCS_heuristic algorithm outputs the following path:\\n\" + str(path) + '\\033[1m'\"\\nThe time taken to reach destination is: \"+str(timing)+\". And \"+str(num_explored) + \" nodes have been exploded \\n\"'\\033[0m')\n"
   ]
  }
 ],
 "metadata": {
  "kernelspec": {
   "display_name": "Python 3 (ipykernel)",
   "language": "python",
   "name": "python3"
  },
  "language_info": {
   "codemirror_mode": {
    "name": "ipython",
    "version": 3
   },
   "file_extension": ".py",
   "mimetype": "text/x-python",
   "name": "python",
   "nbconvert_exporter": "python",
   "pygments_lexer": "ipython3",
   "version": "3.9.6"
  }
 },
 "nbformat": 4,
 "nbformat_minor": 5
}
